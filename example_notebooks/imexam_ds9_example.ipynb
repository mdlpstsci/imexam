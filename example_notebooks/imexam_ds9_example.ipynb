{
 "cells": [
  {
   "cell_type": "markdown",
   "metadata": {},
   "source": [
    "# DEMO Notebook\n",
    "<h2>Using imexam in a Jupyter notebook with DS9</h2>\n",
    "<p align=\"left\">DS9 can be used as a viewer for the imexam package. While the DS9 viewer is active, you have access to all the DS9 menu options in addition to the imexam functionality. The imexam package will attempt to keep track of changes you make through either the command line or the DS9 menus. </p>\n",
    "\n",
    "<p align=\"left\">This and other demo notebooks can be found on the SpaceTelescope github site: https://github.com/spacetelescope/imexam/.</p>\n",
    "\n",
    "\n",
    "<p align=\"left\">Communication with the DS9 display window is done through the XPA. More information on the XPA access points which are available can be found here: http://ds9.si.edu/doc/ref/xpa.html.</p>"
   ]
  },
  {
   "cell_type": "code",
   "execution_count": null,
   "metadata": {
    "collapsed": true
   },
   "outputs": [],
   "source": [
    "#This allows interactive plots to display inside of the notebook\n",
    "%matplotlib notebook"
   ]
  },
  {
   "cell_type": "markdown",
   "metadata": {},
   "source": [
    "<h3> Ok, now on to the good stuff!</h3>"
   ]
  },
  {
   "cell_type": "code",
   "execution_count": null,
   "metadata": {
    "collapsed": true
   },
   "outputs": [],
   "source": [
    "import imexam"
   ]
  },
  {
   "cell_type": "code",
   "execution_count": null,
   "metadata": {
    "collapsed": true
   },
   "outputs": [],
   "source": [
    "#Start up a DS9 window with no options\n",
    "a=imexam.connect() "
   ]
  },
  {
   "cell_type": "markdown",
   "metadata": {},
   "source": [
    "<h3>The file of interest can be specified as resident in the current directory, via a relative path, or by a fully-qualified path.  In addition, you can obtain the image directly from MAST using the following commands:TBD.<br>\n",
    "\n",
    "<p><i>If the DS9 display grabs the focus, click back on this notebook to continue with the demonstration.</i></p></h3>"
   ]
  },
  {
   "cell_type": "code",
   "execution_count": null,
   "metadata": {
    "collapsed": true
   },
   "outputs": [],
   "source": [
    "#Display fits image in DS9\n",
    "a.load_fits('ib6wb3qbq_flc.fits') "
   ]
  },
  {
   "cell_type": "code",
   "execution_count": null,
   "metadata": {
    "collapsed": true
   },
   "outputs": [],
   "source": [
    "#ZScale will be used to scale the image\n",
    "a.scale() "
   ]
  },
  {
   "cell_type": "code",
   "execution_count": null,
   "metadata": {
    "collapsed": true,
    "scrolled": true
   },
   "outputs": [],
   "source": [
    "#This command can take a long time (seemingly hanging) at this time.\n",
    "#The DS9 window will be displayed in this notebook\n",
    "#a.grab()"
   ]
  },
  {
   "cell_type": "markdown",
   "metadata": {},
   "source": [
    "<h3>In order to interact directly with the DS9 window, imexam starts up a loop which looks for mouse and keyboard press events. To get out of this loop, press the \"q\" key.   \n",
    "\n",
    "<p>When the next cell is executed, a list of key commands should appear.  If the list does not appear, click on the DS9 display.  You should see a flashing, circular cursor. If the list still does not appear, click on the display again.</p> \n",
    "\n",
    "<p><i>Be aware that in some installations the graphics buffer does not flush to the notebook until a second key press is issued for each plot.</i> </p></h3>"
   ]
  },
  {
   "cell_type": "code",
   "execution_count": null,
   "metadata": {},
   "outputs": [],
   "source": [
    "a.imexam()"
   ]
  },
  {
   "cell_type": "markdown",
   "metadata": {},
   "source": [
    "<h3>Remember to quit (\"q\") out of imexam.</h3>"
   ]
  },
  {
   "cell_type": "code",
   "execution_count": null,
   "metadata": {},
   "outputs": [],
   "source": [
    "#All of the plots are customizable; the parameters are stored in regular dictionaries\n",
    "a.eimexam()"
   ]
  },
  {
   "cell_type": "code",
   "execution_count": null,
   "metadata": {},
   "outputs": [],
   "source": [
    "#You can customize the plotting parameters (or any function in the imexam loop)\n",
    "a.set_plot_pars('e','title','This is my favorite galaxy')\n",
    "a.set_plot_pars('e','ncontours',4)\n",
    "a.set_plot_pars('e','cmap','YlOrRd') #see http://matplotlib.org/users/colormaps.html\n"
   ]
  },
  {
   "cell_type": "code",
   "execution_count": null,
   "metadata": {},
   "outputs": [],
   "source": [
    "#Lets see how the plot changed\n",
    "a.imexam()"
   ]
  },
  {
   "cell_type": "code",
   "execution_count": null,
   "metadata": {},
   "outputs": [],
   "source": [
    "#Maybe you want to change the colormap on the DS9 display. You can see the available maps:\n",
    "a.cmap()"
   ]
  },
  {
   "cell_type": "code",
   "execution_count": null,
   "metadata": {
    "collapsed": true
   },
   "outputs": [],
   "source": [
    "a.cmap(color='heat')"
   ]
  },
  {
   "cell_type": "code",
   "execution_count": null,
   "metadata": {
    "collapsed": true
   },
   "outputs": [],
   "source": [
    "#You can always go back to the default plot settings\n",
    "a.unlearn() "
   ]
  },
  {
   "cell_type": "markdown",
   "metadata": {
    "collapsed": true
   },
   "source": [
    "<h3>If you want to pull the data array from the display and do some other calculations with it, you can ask for it.</h3>"
   ]
  },
  {
   "cell_type": "code",
   "execution_count": null,
   "metadata": {
    "collapsed": true
   },
   "outputs": [],
   "source": [
    "data=a.get_data()"
   ]
  },
  {
   "cell_type": "code",
   "execution_count": null,
   "metadata": {},
   "outputs": [],
   "source": [
    "#You can see some of the actual data values\n",
    "data "
   ]
  },
  {
   "cell_type": "code",
   "execution_count": null,
   "metadata": {
    "collapsed": true
   },
   "outputs": [],
   "source": [
    "#You can also get the header, which will be returned as a string\n",
    "header=a.get_header()"
   ]
  },
  {
   "cell_type": "code",
   "execution_count": null,
   "metadata": {},
   "outputs": [],
   "source": [
    "print(header)"
   ]
  },
  {
   "cell_type": "markdown",
   "metadata": {},
   "source": [
    "<h3>Quick photometry can be pulled with the \"a\" key and uses the photutils package to do the work. More information on photutils can be found at http://photutils.readthedocs.org/en/latest/.\n",
    "\n",
    "<p>You can also look at the example notebook with DS9 photometry which uses photutils.</p></h3>"
   ]
  },
  {
   "cell_type": "code",
   "execution_count": null,
   "metadata": {
    "collapsed": true
   },
   "outputs": [],
   "source": [
    "#Any numpy array can be displayed in the viewer\n",
    "import numpy as np\n",
    "data=np.random.rand(100) * np.ones((100,100))\n",
    "a.view(data)\n",
    "a.zoomtofit()"
   ]
  },
  {
   "cell_type": "code",
   "execution_count": null,
   "metadata": {
    "collapsed": true
   },
   "outputs": [],
   "source": [
    "#...or you can use astropy nddata arrays (which really are numpy arrays with meta data)\n",
    "from astropy.nddata import NDData\n",
    "array = np.random.random((12, 12, 12))  # a random 3-dimensional array\n",
    "ndd = NDData(array)\n",
    "a.view(ndd.data[3])\n",
    "a.zoom()"
   ]
  },
  {
   "cell_type": "code",
   "execution_count": null,
   "metadata": {
    "collapsed": true
   },
   "outputs": [],
   "source": [
    "#Close the DS9 window\n",
    "a.close() "
   ]
  },
  {
   "cell_type": "code",
   "execution_count": null,
   "metadata": {
    "collapsed": true
   },
   "outputs": [],
   "source": []
  }
 ],
 "metadata": {
  "kernelspec": {
   "display_name": "Python 3",
   "language": "python",
   "name": "python3"
  },
  "language_info": {
   "codemirror_mode": {
    "name": "ipython",
    "version": 3
   },
   "file_extension": ".py",
   "mimetype": "text/x-python",
   "name": "python",
   "nbconvert_exporter": "python",
   "pygments_lexer": "ipython3",
   "version": "3.6.2"
  }
 },
 "nbformat": 4,
 "nbformat_minor": 1
}
