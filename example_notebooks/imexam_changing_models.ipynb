{
 "cells": [
  {
   "cell_type": "markdown",
   "metadata": {},
   "source": [
    "# DEMO Notebook - changing the models used for plots\n",
    "<h2>Using imexam in a Jupyter notebook with Ginga</h2>\n",
    "<p align=\"left\">The Ginga HTML5 canvas viewer can be used as a viewer for the imexam package. While the Ginga viewer is active, you have access to all the imexam functions, as well as all the Ginga functions the HTML viewer provides. The imexam package will attempt to keep track of changes you make through either the command line or the Ginga menus. </p>\n",
    "\n",
    "<p align=\"left\">This and other demo notebooks can be found on the SpaceTelescope github site: https://github.com/spacetelescope/imexam/. </p>\n",
    "\n",
    "<b>If you are running with Python 3, Ginga also requires that pillow be installed. If pillow is missing, you will see a blank viewer popup in the html window. You can \"conda install pillow\" and that should fix the problem. </b>"
   ]
  },
  {
   "cell_type": "code",
   "execution_count": null,
   "metadata": {
    "collapsed": true
   },
   "outputs": [],
   "source": [
    "#This allows interactive plots to display inside of the notebook\n",
    "%matplotlib notebook"
   ]
  },
  {
   "cell_type": "markdown",
   "metadata": {},
   "source": [
    "<h3> Ok, now on to the good stuff!</h3>"
   ]
  },
  {
   "cell_type": "code",
   "execution_count": null,
   "metadata": {
    "collapsed": true
   },
   "outputs": [],
   "source": [
    "import imexam"
   ]
  },
  {
   "cell_type": "code",
   "execution_count": null,
   "metadata": {},
   "outputs": [],
   "source": [
    "#Starts up a Ginga window in a new tab of the browser with no options\n",
    "a=imexam.connect(viewer='ginga')"
   ]
  },
  {
   "cell_type": "markdown",
   "metadata": {},
   "source": [
    "<h3>In Ginga the image should display nicely scaled by default.  This is in contrast to DS9 where scaling is usually needed.</h3>"
   ]
  },
  {
   "cell_type": "code",
   "execution_count": null,
   "metadata": {
    "collapsed": true
   },
   "outputs": [],
   "source": [
    "#Display fits image in Ginga\n",
    "a.load_fits('iabf03ieq_flt.fits') "
   ]
  },
  {
   "cell_type": "code",
   "execution_count": null,
   "metadata": {
    "scrolled": true
   },
   "outputs": [],
   "source": [
    "#The image displayed in Ginga will be displayed in this notebook\n",
    "a.grab() "
   ]
  },
  {
   "cell_type": "markdown",
   "metadata": {},
   "source": [
    "<h3>When using a Ginga window, the imexam() function is event driven. You <i>may need to double-click</i> on the Ginga window for your initial access to the Ginga functions as indicated by the crosshair cursor. The \"i\" and \"q\" keys toggle you into and out of access to the imexam functionality.  You will see messages on the Ginga display confirming your requested state.\n",
    "\n",
    "<p>While in imexam mode, the analysis keys are mapped to the imexam functions and the results will be returned in the notebook</p></h3>"
   ]
  },
  {
   "cell_type": "code",
   "execution_count": null,
   "metadata": {},
   "outputs": [],
   "source": [
    "#Get a list of the imexam functions\n",
    "a.imexam()"
   ]
  },
  {
   "cell_type": "code",
   "execution_count": null,
   "metadata": {},
   "outputs": [],
   "source": [
    "#All of the plots are customizable; the parameters are stored in regular dictionaries\n",
    "#j-imexam is used because the \"j\" key is what is pressed to get the line fit\n",
    "a.jimexam()  "
   ]
  },
  {
   "cell_type": "markdown",
   "metadata": {},
   "source": [
    "<h3>Peform a line fit function in imexam mode via the \"j\" key which will be performed with the Gaussian1D as seen in the jimexam() settings.</h3>"
   ]
  },
  {
   "cell_type": "code",
   "execution_count": null,
   "metadata": {},
   "outputs": [],
   "source": [
    "#Maybe we want to change the model used for the fit from Gaussian1D to Moffat1D\n",
    "#Setting the parameters requires a tuple of the (key name, parameters, value)\n",
    "a.set_plot_pars('j','func','MexicanHat1D' )"
   ]
  },
  {
   "cell_type": "code",
   "execution_count": null,
   "metadata": {},
   "outputs": [],
   "source": [
    "#Show the updated dictionary\n",
    "a.jimexam()"
   ]
  },
  {
   "cell_type": "markdown",
   "metadata": {},
   "source": [
    "<h3>Go back to the Ginga display, get into imexam mode, and click \"j\" key to get a line plot.</h3>"
   ]
  },
  {
   "cell_type": "markdown",
   "metadata": {},
   "source": [
    "<h3>You can see that this time, the plotting function used a Mexcan Hat 1D fit for the data.  <i>Be aware your new plot may appear in your original graphics section of this notebook.</i></h3>"
   ]
  },
  {
   "cell_type": "code",
   "execution_count": null,
   "metadata": {
    "collapsed": true
   },
   "outputs": [],
   "source": [
    "#You can always go back to the default plot settings\n",
    "a.unlearn() "
   ]
  },
  {
   "cell_type": "code",
   "execution_count": null,
   "metadata": {},
   "outputs": [],
   "source": [
    "#Show the updated dictionary again\n",
    "a.jimexam()"
   ]
  },
  {
   "cell_type": "code",
   "execution_count": null,
   "metadata": {},
   "outputs": [],
   "source": [
    "#For Ginga, there is not an automatic window close for the HTML5 canvas.\n",
    "#Stop the http server\n",
    "a.close()"
   ]
  },
  {
   "cell_type": "code",
   "execution_count": null,
   "metadata": {
    "collapsed": true
   },
   "outputs": [],
   "source": []
  }
 ],
 "metadata": {
  "anaconda-cloud": {},
  "kernelspec": {
   "display_name": "Python 3",
   "language": "python",
   "name": "python3"
  },
  "language_info": {
   "codemirror_mode": {
    "name": "ipython",
    "version": 3
   },
   "file_extension": ".py",
   "mimetype": "text/x-python",
   "name": "python",
   "nbconvert_exporter": "python",
   "pygments_lexer": "ipython3",
   "version": "3.6.2"
  }
 },
 "nbformat": 4,
 "nbformat_minor": 1
}
